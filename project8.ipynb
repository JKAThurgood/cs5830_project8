{
 "cells": [
  {
   "cell_type": "markdown",
   "metadata": {},
   "source": [
    "# Predicting Marital Status\n",
    "\n",
    "Imports"
   ]
  },
  {
   "cell_type": "code",
   "execution_count": null,
   "metadata": {},
   "outputs": [],
   "source": [
    "from sklearn.tree import DecisionTreeClassifier\n",
    "from sklearn import tree\n",
    "import pandas as pd\n",
    "from IPython.display import SVG\n",
    "from graphviz import Source\n",
    "import seaborn as sns\n",
    "import matplotlib.pyplot as plt\n",
    "column_names = ['price', 'maint', 'doors', 'riders', 'trunkSize', 'safety', 'class']\n",
    "df = pd.read_csv('data/car.data', names=column_names)\n",
    "\n",
    "print(df.head())\n",
    "sns.catplot(\n",
    "    data=df,\n",
    "    x = 'class',\n",
    "    kind=\"count\",\n",
    ")"
   ]
  },
  {
   "cell_type": "markdown",
   "metadata": {},
   "source": [
    "Encoding ints to the different values\n"
   ]
  },
  {
   "cell_type": "code",
   "execution_count": null,
   "metadata": {},
   "outputs": [],
   "source": [
    "# Define mapping for categorical variables\n",
    "price_map = {'low': 1, 'med': 2, 'high': 3, 'vhigh': 4}\n",
    "maint_map = {'low': 1, 'med': 2, 'high': 4, 'vhigh': 4}\n",
    "doors_map = {'2': 1, '3': 2, '4': 3, '5more': 4}\n",
    "riders_map = {'2': 1, '4': 2, 'more': 3}  \n",
    "trunk_map = {'small': 1, 'med': 2, 'big': 3}\n",
    "safety_map = {'low': 1, 'med': 2, 'high': 3}\n",
    "accept_map = {'unacc':0,'acc':1, 'good':1, 'vgood':1}\n",
    "\n",
    "# Apply mapping to categorical variables\n",
    "df['price'] = df['price'].map(price_map)\n",
    "df['maint'] = df['maint'].map(maint_map)\n",
    "df['doors'] = df['doors'].map(doors_map)\n",
    "df['riders'] = df['riders'].map(riders_map)\n",
    "df['trunkSize'] = df['trunkSize'].map(trunk_map)\n",
    "df['safety'] = df['safety'].map(safety_map)\n",
    "df['class'] = df['class'].map(accept_map)\n",
    "df"
   ]
  },
  {
   "cell_type": "code",
   "execution_count": null,
   "metadata": {},
   "outputs": [],
   "source": [
    "feature_cols = ['price', 'maint', 'doors', 'riders', 'trunkSize', 'safety']\n",
    "X = df[feature_cols]\n",
    "y = df[\"class\"]\n",
    "treeclf = DecisionTreeClassifier(max_depth=3, random_state=1)\n",
    "treeclf.fit(X.values, y)\n",
    "\n",
    "dot = tree.export_graphviz(treeclf, out_file=None,\n",
    "                                    feature_names=feature_cols,\n",
    "                                     class_names=['0', '1'], filled = True)\n",
    "# display the graph here\n",
    "graph = Source(dot)\n",
    "svg = SVG(graph.pipe(format='svg'))\n",
    "display(svg)"
   ]
  },
  {
   "cell_type": "markdown",
   "metadata": {},
   "source": [
    "Seems a little steep on safety and rider potential"
   ]
  },
  {
   "cell_type": "code",
   "execution_count": null,
   "metadata": {},
   "outputs": [],
   "source": [
    "feature_cols = ['price', 'maint', 'doors', 'trunkSize']\n",
    "X = df[feature_cols]\n",
    "y = df[\"class\"]\n",
    "treeclf = DecisionTreeClassifier(max_depth=3, random_state=1)\n",
    "treeclf.fit(X.values, y)\n",
    "\n",
    "dot = tree.export_graphviz(treeclf, out_file=None,\n",
    "                                    feature_names=feature_cols,\n",
    "                                     class_names=['0', '1'], filled = True)\n",
    "# display the graph here\n",
    "graph = Source(dot)\n",
    "svg = SVG(graph.pipe(format='svg'))\n",
    "display(svg)"
   ]
  },
  {
   "cell_type": "markdown",
   "metadata": {},
   "source": [
    "Moral of the story, there is never a good car\n",
    "Not true, lets give the model some more depth"
   ]
  },
  {
   "cell_type": "code",
   "execution_count": null,
   "metadata": {},
   "outputs": [],
   "source": [
    "feature_cols = ['price', 'maint', 'doors', 'riders', 'trunkSize', 'safety']\n",
    "X = df[feature_cols]\n",
    "y = df[\"class\"]\n",
    "treeclf = DecisionTreeClassifier(max_depth=5, random_state=1)\n",
    "treeclf.fit(X.values, y)\n",
    "\n",
    "dot = tree.export_graphviz(treeclf, out_file=None,\n",
    "                                    feature_names=feature_cols,\n",
    "                                     class_names=['0', '1'], filled = True)\n",
    "# display the graph here\n",
    "graph = Source(dot)\n",
    "svg = SVG(graph.pipe(format='svg'))\n",
    "display(svg)"
   ]
  },
  {
   "cell_type": "code",
   "execution_count": null,
   "metadata": {},
   "outputs": [],
   "source": []
  },
  {
   "cell_type": "markdown",
   "metadata": {},
   "source": [
    "Given everything that we have, the way the classification were made, it appears the assessors really don't find value in two seat cars or cars with low safety features. What does our decision tree look like if we throw those rows out"
   ]
  },
  {
   "cell_type": "code",
   "execution_count": null,
   "metadata": {},
   "outputs": [],
   "source": [
    "df2 = df[(df['riders'] != 1) & (df['safety'] != 1)]\n",
    "print(df.head())\n",
    "sns.catplot(\n",
    "    data=df,\n",
    "    x = 'class',\n",
    "    kind=\"count\",\n",
    ")"
   ]
  },
  {
   "cell_type": "code",
   "execution_count": null,
   "metadata": {},
   "outputs": [],
   "source": [
    "feature_cols = ['price', 'maint', 'doors', 'riders', 'trunkSize', 'safety']\n",
    "X = df2[feature_cols]\n",
    "y = df2[\"class\"]\n",
    "treeclf = DecisionTreeClassifier(max_depth=2, random_state=1)\n",
    "treeclf.fit(X.values, y)\n",
    "\n",
    "dot = tree.export_graphviz(treeclf, out_file=None,\n",
    "                                    feature_names=feature_cols,\n",
    "                                     class_names=['0', '1'], filled = True)\n",
    "# display the graph here\n",
    "graph = Source(dot)\n",
    "svg = SVG(graph.pipe(format='svg'))\n",
    "display(svg)"
   ]
  },
  {
   "cell_type": "code",
   "execution_count": null,
   "metadata": {},
   "outputs": [],
   "source": [
    "feature_cols = ['price', 'maint', 'doors', 'riders', 'trunkSize', 'safety']\n",
    "X = df2[feature_cols]\n",
    "y = df2[\"class\"]\n",
    "treeclf = DecisionTreeClassifier(max_depth=4, random_state=1)\n",
    "treeclf.fit(X.values, y)\n",
    "\n",
    "dot = tree.export_graphviz(treeclf, out_file=None,\n",
    "                                    feature_names=feature_cols,\n",
    "                                     class_names=['0', '1'], filled = True)\n",
    "# display the graph here\n",
    "graph = Source(dot)\n",
    "svg = SVG(graph.pipe(format='svg'))\n",
    "display(svg)"
   ]
  }
 ],
 "metadata": {
  "kernelspec": {
   "display_name": "Python 3",
   "language": "python",
   "name": "python3"
  },
  "language_info": {
   "codemirror_mode": {
    "name": "ipython",
    "version": 3
   },
   "file_extension": ".py",
   "mimetype": "text/x-python",
   "name": "python",
   "nbconvert_exporter": "python",
   "pygments_lexer": "ipython3",
   "version": "3.12.1"
  }
 },
 "nbformat": 4,
 "nbformat_minor": 2
}
