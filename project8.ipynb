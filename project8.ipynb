{
 "cells": [
  {
   "cell_type": "markdown",
   "metadata": {},
   "source": [
    "# Predicting Marital Status\n",
    "\n",
    "Imports"
   ]
  },
  {
   "cell_type": "code",
   "execution_count": null,
   "metadata": {},
   "outputs": [],
   "source": [
    "from sklearn.tree import DecisionTreeClassifier\n",
    "from sklearn import tree\n",
    "import pandas as pd\n",
    "from IPython.display import SVG\n",
    "from graphviz import Source\n",
    "import seaborn as sns\n",
    "import matplotlib.pyplot as plt\n",
    "column_names = ['price', 'maint', 'doors', 'riders', 'trunkSize', 'safety', 'class']\n",
    "df = pd.read_csv('data/car+evaluation/car.data', names=column_names)\n",
    "\n",
    "print(df.head())\n",
    "sns.catplot(\n",
    "    data=df,\n",
    "    x = 'class',\n",
    "    kind=\"count\",\n",
    ")"
   ]
  },
  {
   "cell_type": "markdown",
   "metadata": {},
   "source": [
    "Encoding ints to the different values\n"
   ]
  },
  {
   "cell_type": "code",
   "execution_count": null,
   "metadata": {},
   "outputs": [],
   "source": [
    "# Define mapping for categorical variables\n",
    "price_map = {'low': 1, 'med': 2, 'high': 3, 'vhigh': 4}\n",
    "maint_map = {'low': 1, 'med': 2, 'high': 4, 'vhigh': 4}\n",
    "doors_map = {'2': 1, '3': 2, '4': 3, '5more': 4}\n",
    "riders_map = {'2': 1, '4': 2, 'more': 3}  \n",
    "trunk_map = {'small': 1, 'med': 2, 'big': 3}\n",
    "safety_map = {'low': 1, 'med': 2, 'high': 3}\n",
    "accept_map = {'unacc':0,'acc':1, 'good':1, 'vgood':1}\n",
    "\n",
    "# Apply mapping to categorical variables\n",
    "df['price'] = df['price'].map(price_map)\n",
    "df['maint'] = df['maint'].map(maint_map)\n",
    "df['doors'] = df['doors'].map(doors_map)\n",
    "df['riders'] = df['riders'].map(riders_map)\n",
    "df['trunkSize'] = df['trunkSize'].map(trunk_map)\n",
    "df['safety'] = df['safety'].map(safety_map)\n",
    "df['class'] = df['class'].map(accept_map)\n",
    "df"
   ]
  },
  {
   "cell_type": "code",
   "execution_count": null,
   "metadata": {},
   "outputs": [],
   "source": [
    "feature_cols = ['price', 'maint', 'doors', 'riders', 'trunkSize', 'safety']\n",
    "X = df[feature_cols]\n",
    "y = df[\"class\"]\n",
    "treeclf = DecisionTreeClassifier(max_depth=3, random_state=1)\n",
    "treeclf.fit(X.values, y)\n",
    "\n",
    "dot = tree.export_graphviz(treeclf, out_file=None,\n",
    "                                    feature_names=feature_cols,\n",
    "                                     class_names=['0', '1'], filled = True)\n",
    "# display the graph here\n",
    "graph = Source(dot)\n",
    "svg = SVG(graph.pipe(format='svg'))\n",
    "display(svg)"
   ]
  },
  {
   "cell_type": "markdown",
   "metadata": {},
   "source": [
    "Seems a little steep on safety and rider potential"
   ]
  },
  {
   "cell_type": "code",
   "execution_count": null,
   "metadata": {},
   "outputs": [],
   "source": [
    "feature_cols = ['price', 'maint', 'doors', 'trunkSize']\n",
    "X = df[feature_cols]\n",
    "y = df[\"class\"]\n",
    "treeclf = DecisionTreeClassifier(max_depth=3, random_state=1)\n",
    "treeclf.fit(X.values, y)\n",
    "\n",
    "dot = tree.export_graphviz(treeclf, out_file=None,\n",
    "                                    feature_names=feature_cols,\n",
    "                                     class_names=['0', '1'], filled = True)\n",
    "# display the graph here\n",
    "graph = Source(dot)\n",
    "svg = SVG(graph.pipe(format='svg'))\n",
    "display(svg)"
   ]
  },
  {
   "cell_type": "markdown",
   "metadata": {},
   "source": [
    "Moral of the story, there is never a good car\n",
    "Not true, lets give the model some more depth"
   ]
  },
  {
   "cell_type": "code",
   "execution_count": null,
   "metadata": {},
   "outputs": [],
   "source": [
    "feature_cols = ['price', 'maint', 'doors', 'riders', 'trunkSize', 'safety']\n",
    "X = df[feature_cols]\n",
    "y = df[\"class\"]\n",
    "treeclf = DecisionTreeClassifier(max_depth=5, random_state=1)\n",
    "treeclf.fit(X.values, y)\n",
    "\n",
    "dot = tree.export_graphviz(treeclf, out_file=None,\n",
    "                                    feature_names=feature_cols,\n",
    "                                     class_names=['0', '1'], filled = True)\n",
    "# display the graph here\n",
    "graph = Source(dot)\n",
    "svg = SVG(graph.pipe(format='svg'))\n",
    "display(svg)"
   ]
  },
  {
   "cell_type": "code",
   "execution_count": null,
   "metadata": {},
   "outputs": [],
   "source": []
  },
  {
   "cell_type": "markdown",
   "metadata": {},
   "source": [
    "Given everything that we have, the way the classification were made, it appears the assessors really don't find value in two seat cars or cars with low safety features. What does our decision tree look like if we throw those rows out"
   ]
  },
  {
   "cell_type": "code",
   "execution_count": null,
   "metadata": {},
   "outputs": [],
   "source": [
    "df2 = df[(df['riders'] != 1) & (df['safety'] != 1)]\n",
    "print(df.head())\n",
    "sns.catplot(\n",
    "    data=df,\n",
    "    x = 'class',\n",
    "    kind=\"count\",\n",
    ")"
   ]
  },
  {
   "cell_type": "code",
   "execution_count": null,
   "metadata": {},
   "outputs": [],
   "source": [
    "feature_cols = ['price', 'maint', 'doors', 'riders', 'trunkSize', 'safety']\n",
    "X = df2[feature_cols]\n",
    "y = df2[\"class\"]\n",
    "treeclf = DecisionTreeClassifier(max_depth=2, random_state=1)\n",
    "treeclf.fit(X.values, y)\n",
    "\n",
    "dot = tree.export_graphviz(treeclf, out_file=None,\n",
    "                                    feature_names=feature_cols,\n",
    "                                     class_names=['0', '1'], filled = True)\n",
    "# display the graph here\n",
    "graph = Source(dot)\n",
    "svg = SVG(graph.pipe(format='svg'))\n",
    "display(svg)"
   ]
  },
  {
   "cell_type": "code",
   "execution_count": null,
   "metadata": {},
   "outputs": [],
   "source": [
    "feature_cols = ['price', 'maint', 'doors', 'riders', 'trunkSize', 'safety']\n",
    "X = df2[feature_cols]\n",
    "y = df2[\"class\"]\n",
    "treeclf = DecisionTreeClassifier(max_depth=4, random_state=1)\n",
    "treeclf.fit(X.values, y)\n",
    "\n",
    "dot = tree.export_graphviz(treeclf, out_file=None,\n",
    "                                    feature_names=feature_cols,\n",
    "                                     class_names=['0', '1'], filled = True)\n",
    "# display the graph here\n",
    "graph = Source(dot)\n",
    "svg = SVG(graph.pipe(format='svg'))\n",
    "display(svg)"
   ]
  },
  {
   "cell_type": "markdown",
   "metadata": {},
   "source": [
    "# Neural Network"
   ]
  },
  {
   "cell_type": "code",
   "execution_count": null,
   "metadata": {},
   "outputs": [],
   "source": [
    "from sklearn.tree import DecisionTreeClassifier\n",
    "from sklearn import tree\n",
    "import pandas as pd\n",
    "from IPython.display import SVG\n",
    "from graphviz import Source\n",
    "import seaborn as sns\n",
    "import matplotlib.pyplot as plt\n",
    "from sklearn.model_selection import train_test_split\n",
    "from sklearn.preprocessing import StandardScaler\n",
    "from sklearn.neural_network import MLPClassifier\n",
    "from sklearn.metrics import classification_report,confusion_matrix\n",
    "\n",
    "column_names = ['price', 'maint', 'doors', 'riders', 'trunkSize', 'safety', 'class']\n",
    "df = pd.read_csv('data/car+evaluation/car.data', names=column_names)"
   ]
  },
  {
   "cell_type": "code",
   "execution_count": null,
   "metadata": {},
   "outputs": [],
   "source": [
    "# Define mapping for categorical variables\n",
    "price_map = {'low': 1, 'med': 2, 'high': 3, 'vhigh': 4}\n",
    "maint_map = {'low': 1, 'med': 2, 'high': 4, 'vhigh': 4}\n",
    "doors_map = {'2': 1, '3': 2, '4': 3, '5more': 4}\n",
    "riders_map = {'2': 1, '4': 2, 'more': 3}  \n",
    "trunk_map = {'small': 1, 'med': 2, 'big': 3}\n",
    "safety_map = {'low': 1, 'med': 2, 'high': 3}\n",
    "accept_map = {'unacc':0,'acc':1, 'good':1, 'vgood':1}\n",
    "\n",
    "# Apply mapping to categorical variables\n",
    "df['price'] = df['price'].map(price_map)\n",
    "df['maint'] = df['maint'].map(maint_map)\n",
    "df['doors'] = df['doors'].map(doors_map)\n",
    "df['riders'] = df['riders'].map(riders_map)\n",
    "df['trunkSize'] = df['trunkSize'].map(trunk_map)\n",
    "df['safety'] = df['safety'].map(safety_map)\n",
    "df['class'] = df['class'].map(accept_map)\n",
    "df"
   ]
  },
  {
   "cell_type": "code",
   "execution_count": null,
   "metadata": {},
   "outputs": [],
   "source": [
    "X = df.drop('class',axis=1)\n",
    "y = df['class']\n",
    "\n",
    "X_train, X_test, y_train, y_test = train_test_split(X, y)\n"
   ]
  },
  {
   "cell_type": "code",
   "execution_count": null,
   "metadata": {},
   "outputs": [],
   "source": [
    "scaler = StandardScaler()\n",
    "\n",
    "# Fit only to the training data\n",
    "scaler.fit(X_train)\n",
    "\n",
    "# Now apply the transformations to the data:\n",
    "X_train = scaler.transform(X_train)\n",
    "X_test = scaler.transform(X_test)\n",
    "\n",
    "X_train"
   ]
  },
  {
   "cell_type": "code",
   "execution_count": null,
   "metadata": {},
   "outputs": [],
   "source": [
    "# mlp = MLPClassifier(hidden_layer_sizes=(5),max_iter=500)\n",
    "mlp = MLPClassifier(hidden_layer_sizes=(8, 9, 8),max_iter=50000)"
   ]
  },
  {
   "cell_type": "code",
   "execution_count": null,
   "metadata": {},
   "outputs": [],
   "source": [
    "mlp.fit(X_train,y_train)"
   ]
  },
  {
   "cell_type": "code",
   "execution_count": null,
   "metadata": {},
   "outputs": [],
   "source": [
    "predictions = mlp.predict(X_test)"
   ]
  },
  {
   "cell_type": "code",
   "execution_count": null,
   "metadata": {},
   "outputs": [],
   "source": [
    "print(confusion_matrix(y_test,predictions))"
   ]
  },
  {
   "cell_type": "code",
   "execution_count": null,
   "metadata": {},
   "outputs": [],
   "source": [
    "print(classification_report(y_test,predictions))"
   ]
  },
  {
   "cell_type": "code",
   "execution_count": null,
   "metadata": {},
   "outputs": [],
   "source": [
    "print('This dataset has {} input nodes and {} output node(s)'.format(len(X.columns), len(y.unique())))\n",
    "print('There are {} 2D arrays of coefficients, one for each layer'.format(len(mlp.coefs_)))\n",
    "print('The layers have the following number of coefficients: {}')\n",
    "for l in range(len(mlp.coefs_)):\n",
    "    m = len(mlp.coefs_[l])\n",
    "    n = len(mlp.coefs_[l][0])\n",
    "    print('  {}: {}x{} ({} nodes feeding into a layer of {} nodes)'.format(l, m, n, m, n))\n",
    "# Print the actual coefficients\n",
    "# print(mlp.coefs_)\n",
    "\n",
    "print()\n",
    "print('There are {} 1D arrays of intercepts, one for each layer'.format(len(mlp.intercepts_)))\n",
    "print('Each layer has {} intercepts, one for each node'.format([len(mlp.intercepts_[l]) for l,_ in enumerate(mlp.intercepts_)]))\n"
   ]
  },
  {
   "cell_type": "code",
   "execution_count": null,
   "metadata": {},
   "outputs": [],
   "source": [
    "# you may need to install networkx with pip\n",
    "import networkx as nx\n",
    "import colorsys\n",
    "\n",
    "def show_ann(mlp):\n",
    "    hidden_layers_n = len(mlp.coefs_)-1\n",
    "    layers_n = hidden_layers_n + 2\n",
    "    input_neurons_n = len(mlp.coefs_[0])\n",
    "    hidden_neurons_n = [len(mlp.coefs_[i+1]) for i in range(hidden_layers_n)]\n",
    "    output_neurons_n = len(mlp.coefs_[-1][0])\n",
    "\n",
    "    G = nx.DiGraph()\n",
    "    pos = {}\n",
    "\n",
    "    # Create the neurons of the input layer\n",
    "    for i in range(input_neurons_n):\n",
    "        pos['Layer0_{}'.format(i)] = (i,layers_n-1)\n",
    "\n",
    "    for j in range(hidden_layers_n):\n",
    "        # Create the neurons of the j'th hidden layer\n",
    "        prev_layer = j\n",
    "        cur_layer = j+1\n",
    "        if (j == 0):\n",
    "            prev_size = input_neurons_n\n",
    "        else:\n",
    "            prev_size = hidden_neurons_n[j-1]\n",
    "        for i in range(hidden_neurons_n[j]):\n",
    "            pos['Layer{}_{}'.format(cur_layer,i)] = (i,layers_n-1-cur_layer)\n",
    "            for k in range(prev_size):\n",
    "                w = mlp.coefs_[prev_layer][k][i]\n",
    "                G.add_edge('Layer{}_{}'.format(prev_layer,k),'Layer{}_{}'.format(cur_layer,i), weight=w)\n",
    "\n",
    "    # Create the neurons of the output layer\n",
    "    prev_layer = hidden_layers_n\n",
    "    cur_layer = hidden_layers_n+1\n",
    "    for i in range(output_neurons_n):\n",
    "        pos['Layer{}_{}'.format(cur_layer,i)] = (i,layers_n-1-cur_layer)\n",
    "        if len(hidden_neurons_n) > 0:\n",
    "            for k in range(hidden_neurons_n[-1]):\n",
    "                w = mlp.coefs_[prev_layer][k][i]\n",
    "                G.add_edge('Layer{}_{}'.format(prev_layer,k),'Layer{}_{}'.format(cur_layer,i), weight=w)\n",
    "\n",
    "    edges = G.edges()\n",
    "    colors = [colorsys.hsv_to_rgb(0 if G[u][v]['weight'] < 0 else 0.65,\n",
    "                                  1,#min(1, abs(G[u][v]['weight'])),\n",
    "                                  1) for u,v in edges]\n",
    "    weights = [abs(G[u][v]['weight'])*2 for u,v in edges]\n",
    "\n",
    "    nx.draw(G, pos, node_color='y', node_size=450, width=weights, edge_color=colors)\n",
    "    \n",
    "show_ann(mlp)"
   ]
  }
 ],
 "metadata": {
  "kernelspec": {
   "display_name": "Python 3",
   "language": "python",
   "name": "python3"
  },
  "language_info": {
   "codemirror_mode": {
    "name": "ipython",
    "version": 3
   },
   "file_extension": ".py",
   "mimetype": "text/x-python",
   "name": "python",
   "nbconvert_exporter": "python",
   "pygments_lexer": "ipython3",
   "version": "3.10.12"
  }
 },
 "nbformat": 4,
 "nbformat_minor": 2
}
